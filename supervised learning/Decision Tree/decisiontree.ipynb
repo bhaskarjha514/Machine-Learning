{
 "cells": [
  {
   "cell_type": "code",
   "execution_count": 4,
   "metadata": {},
   "outputs": [
    {
     "name": "stdout",
     "output_type": "stream",
     "text": [
      "['male']\n"
     ]
    }
   ],
   "source": [
    "from sklearn .tree import DecisionTreeClassifier\n",
    "clf = DecisionTreeClassifier()\n",
    "# [height, weight, shoe_size]\n",
    "x = [[181, 80, 44], [177, 70, 43], [160, 60, 38], [154, 54, 37], [166, 65, 40], [199, 90, 47], [175,  64, 39], [177, 70 , 40], [159, 55, 37], [171, 75, 42], [181, 85, 43] ]\n",
    "\n",
    "y = ['male', 'male', 'female', 'female', 'male', 'male', 'female', 'female', 'female', 'male', 'male']\n",
    "\n",
    "clf = clf.fit(x,y)  # Training part \n",
    "prediction = clf.predict([[177, 87, 46]])\n",
    "print(prediction)"
   ]
  }
 ],
 "metadata": {
  "kernelspec": {
   "display_name": "Python 3",
   "language": "python",
   "name": "python3"
  },
  "language_info": {
   "codemirror_mode": {
    "name": "ipython",
    "version": 3
   },
   "file_extension": ".py",
   "mimetype": "text/x-python",
   "name": "python",
   "nbconvert_exporter": "python",
   "pygments_lexer": "ipython3",
   "version": "3.7.4"
  }
 },
 "nbformat": 4,
 "nbformat_minor": 2
}
